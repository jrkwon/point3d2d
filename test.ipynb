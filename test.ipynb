{
 "cells": [
  {
   "cell_type": "code",
   "execution_count": 1,
   "metadata": {},
   "outputs": [
    {
     "data": {
      "text/plain": [
       "'\\nTest for camera intrinsic and extrinsic\\n\\nHistory:\\n12/07/2022: Created. \\n@author: jaerock\\n'"
      ]
     },
     "execution_count": 1,
     "metadata": {},
     "output_type": "execute_result"
    }
   ],
   "source": [
    "\"\"\"\n",
    "Test for camera intrinsic and extrinsic\n",
    "\n",
    "History:\n",
    "12/07/2022: Created. \n",
    "@author: jaerock\n",
    "\"\"\"\n"
   ]
  },
  {
   "cell_type": "code",
   "execution_count": 2,
   "metadata": {},
   "outputs": [],
   "source": [
    "\n",
    "import cv2\n",
    "import numpy as np\n"
   ]
  },
  {
   "cell_type": "code",
   "execution_count": 3,
   "metadata": {},
   "outputs": [
    {
     "name": "stdout",
     "output_type": "stream",
     "text": [
      "[[-0.02117208  0.04696295 -0.99867223]\n",
      " [-0.07891868  0.99570073  0.04849631]\n",
      " [ 0.9966562   0.07984067 -0.0173748 ]]\n",
      "[[-0.02117208  0.04696295 -0.99867223  1.0249999 ]\n",
      " [-0.07891868  0.99570073  0.04849631  0.8818195 ]\n",
      " [ 0.9966562   0.07984067 -0.0173748   3.3404123 ]]\n"
     ]
    }
   ],
   "source": [
    " \n",
    "# Rotation vector (3x1)\n",
    "rvec = np.array([0.0249593, -1.5888666, -0.1002387])\n",
    " \n",
    "# Convert to rotation matrix (3x3)\n",
    "rotation_matrix, _ = cv2.Rodrigues(rvec)\n",
    " \n",
    "# Print the rotation matrix\n",
    "print(rotation_matrix)\n",
    " \n",
    "# Translate\n",
    "trans = np.array([1.0249999, 0.8818195, 3.3404123])\n",
    "# trans.T doesn't work with 1d array\n",
    "trans = trans.reshape(3, 1)\n",
    " \n",
    "# Transform\n",
    "transform_matrix = np.append(rotation_matrix, trans, axis=1)\n",
    " \n",
    "# Print the transform matrix\n",
    "print(transform_matrix)\n"
   ]
  },
  {
   "cell_type": "code",
   "execution_count": 4,
   "metadata": {},
   "outputs": [
    {
     "name": "stdout",
     "output_type": "stream",
     "text": [
      "pt_w: [1 0 2] --> pt_c: [-2.01851654  0.01807394  0.9619066 ]\n",
      "pt_w: [1 0 2 1] --> pt_c: [-0.99351664  0.89989344  4.3023189 ]\n"
     ]
    }
   ],
   "source": [
    " \n",
    "# Test a rotation\n",
    "pt_w = np.array([1, 0, 2])\n",
    "pt_c = np.matmul(rotation_matrix, pt_w.T)\n",
    " \n",
    "print(f\"pt_w: {pt_w} --> pt_c: {pt_c}\")\n",
    " \n",
    "# Test a transform\n",
    "pt_w = np.array([1, 0, 2, 1])\n",
    "pt_c = np.matmul(transform_matrix, pt_w.T)\n",
    " \n",
    "print(f\"pt_w: {pt_w} --> pt_c: {pt_c}\")\n"
   ]
  },
  {
   "cell_type": "code",
   "execution_count": 5,
   "metadata": {},
   "outputs": [],
   "source": [
    " \n",
    "# ---------------------------------------------------------------\n",
    "# ---------------------------------------------------------------\n",
    "# Test a projection\n",
    "f = 632.86136\n",
    "cx = 328.65439\n",
    "cy = 243.59555\n",
    " \n"
   ]
  },
  {
   "cell_type": "code",
   "execution_count": 6,
   "metadata": {},
   "outputs": [
    {
     "name": "stdout",
     "output_type": "stream",
     "text": [
      "camera_matrix:\n",
      "[[632.86136   0.      328.65439]\n",
      " [  0.      632.86136 243.59555]\n",
      " [  0.        0.        1.     ]]\n",
      "projection_matrix:\n",
      "[[ 3.14156445e+02  5.59610232e+01 -6.37731370e+02  1.74652400e+03]\n",
      " [ 1.92836429e+02  6.49589351e+02  2.64590169e+01  1.37177906e+03]\n",
      " [ 9.96656202e-01  7.98406666e-02 -1.73747999e-02  3.34041230e+00]]\n",
      "pt_w: [0 0 0 1] --> pt_i: [1746.52399752 1371.77905949    3.3404123 ]\n",
      "pt_w: [0 0 0 1] --> u, v: 522.8468346613563, 410.6615999138145\n"
     ]
    }
   ],
   "source": [
    "# ---------------------------------------------------------------\n",
    "# Method 1\n",
    "camera_matrix = np.array([[f, 0, cx], \n",
    "                          [0, f, cy],\n",
    "                          [0, 0, 1]])\n",
    "print(f\"camera_matrix:\\n{camera_matrix}\")\n",
    " \n",
    "projection_matrix = np.matmul(camera_matrix, transform_matrix)\n",
    "print(f\"projection_matrix:\\n{projection_matrix}\")\n",
    " \n",
    "#pt_w = np.array([1, 0, 2, 1])\n",
    "pt_w = np.array([0, 0, 0, 1]) # world origin\n",
    "pt_i = np.matmul(projection_matrix, pt_w.T)\n",
    "s = pt_i[2] # not sure about this\n",
    "u = pt_i[0]/s\n",
    "v = pt_i[1]/s\n",
    " \n",
    "print(f\"pt_w: {pt_w} --> pt_i: {pt_i}\")\n",
    "print(f\"pt_w: {pt_w} --> u, v: {u}, {v}\")\n"
   ]
  },
  {
   "cell_type": "code",
   "execution_count": 7,
   "metadata": {},
   "outputs": [
    {
     "name": "stdout",
     "output_type": "stream",
     "text": [
      "pt_w: [0 0 0 1] --> pt_c: [1.0249999 0.8818195 3.3404123]\n",
      "pt_w: [0 0 0 1] --> u, v: 522.8468346613563, 410.6615999138145\n"
     ]
    }
   ],
   "source": [
    "\n",
    "# ---------------------------------------------------------------\n",
    "# Method 2\n",
    "# What if pt_c[2] is zero? \n",
    "#pt_w = np.array([1, 0, 2, 1])\n",
    "pt_w = np.array([0, 0, 0, 1]) # world origin\n",
    "pt_c = np.matmul(transform_matrix, pt_w.T)\n",
    "u = f * pt_c[0]/pt_c[2] + cx\n",
    "v = f * pt_c[1]/pt_c[2] + cy\n",
    " \n",
    "print(f\"pt_w: {pt_w} --> pt_c: {pt_c}\")\n",
    "print(f\"pt_w: {pt_w} --> u, v: {u}, {v}\")\n"
   ]
  }
 ],
 "metadata": {
  "kernelspec": {
   "display_name": "Python 3.8.15 ('camera-matrix')",
   "language": "python",
   "name": "python3"
  },
  "language_info": {
   "codemirror_mode": {
    "name": "ipython",
    "version": 3
   },
   "file_extension": ".py",
   "mimetype": "text/x-python",
   "name": "python",
   "nbconvert_exporter": "python",
   "pygments_lexer": "ipython3",
   "version": "3.8.15"
  },
  "orig_nbformat": 4,
  "vscode": {
   "interpreter": {
    "hash": "a86d92ea7bb8fc9bf359e1f9cc061eeb0f871b10a38382899133e08bf11715b8"
   }
  }
 },
 "nbformat": 4,
 "nbformat_minor": 2
}
